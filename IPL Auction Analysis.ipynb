{
 "cells": [
  {
   "cell_type": "code",
   "execution_count": 2,
   "metadata": {},
   "outputs": [],
   "source": [
    "import numpy as np\n",
    "import pandas as pd\n",
    "import seaborn as sns\n",
    "import matplotlib.pyplot as plt"
   ]
  },
  {
   "cell_type": "code",
   "execution_count": 3,
   "metadata": {},
   "outputs": [],
   "source": [
    "df = pd.read_csv('IPL_Auction_2022.csv')"
   ]
  },
  {
   "cell_type": "code",
   "execution_count": 324,
   "metadata": {},
   "outputs": [
    {
     "data": {
      "text/html": [
       "<div>\n",
       "<style scoped>\n",
       "    .dataframe tbody tr th:only-of-type {\n",
       "        vertical-align: middle;\n",
       "    }\n",
       "\n",
       "    .dataframe tbody tr th {\n",
       "        vertical-align: top;\n",
       "    }\n",
       "\n",
       "    .dataframe thead th {\n",
       "        text-align: right;\n",
       "    }\n",
       "</style>\n",
       "<table border=\"1\" class=\"dataframe\">\n",
       "  <thead>\n",
       "    <tr style=\"text-align: right;\">\n",
       "      <th></th>\n",
       "      <th>Set No.</th>\n",
       "      <th>Set Name</th>\n",
       "      <th>Player</th>\n",
       "      <th>Country</th>\n",
       "      <th>State Association</th>\n",
       "      <th>Age</th>\n",
       "      <th>Specialism</th>\n",
       "      <th>Batting</th>\n",
       "      <th>Bowling</th>\n",
       "      <th>IPL</th>\n",
       "      <th>Previous IPLTeam(s)</th>\n",
       "      <th>2021 Team</th>\n",
       "      <th>C/U/A</th>\n",
       "      <th>Base Price</th>\n",
       "      <th>Sold Price</th>\n",
       "      <th>New Franchise</th>\n",
       "      <th>Bid</th>\n",
       "    </tr>\n",
       "  </thead>\n",
       "  <tbody>\n",
       "    <tr>\n",
       "      <th>0</th>\n",
       "      <td>1</td>\n",
       "      <td>M</td>\n",
       "      <td>Trent Boult</td>\n",
       "      <td>New Zealand</td>\n",
       "      <td>Foreign Player</td>\n",
       "      <td>32</td>\n",
       "      <td>BOWLER</td>\n",
       "      <td>RHB</td>\n",
       "      <td>LEFT ARM Fast Medium</td>\n",
       "      <td>62.0</td>\n",
       "      <td>SRH, KKR, DD,MI</td>\n",
       "      <td>MI</td>\n",
       "      <td>Capped</td>\n",
       "      <td>200</td>\n",
       "      <td>800.0</td>\n",
       "      <td>Rajasthan Royals</td>\n",
       "      <td>Sold</td>\n",
       "    </tr>\n",
       "    <tr>\n",
       "      <th>1</th>\n",
       "      <td>1</td>\n",
       "      <td>M</td>\n",
       "      <td>Pat Cummins</td>\n",
       "      <td>Australia</td>\n",
       "      <td>Foreign Player</td>\n",
       "      <td>28</td>\n",
       "      <td>ALL-ROUNDER</td>\n",
       "      <td>RHB</td>\n",
       "      <td>RIGHT ARM Fast</td>\n",
       "      <td>37.0</td>\n",
       "      <td>DD, MI, KKR</td>\n",
       "      <td>KKR</td>\n",
       "      <td>Capped</td>\n",
       "      <td>200</td>\n",
       "      <td>725.0</td>\n",
       "      <td>Kolkata Knight Riders</td>\n",
       "      <td>Sold</td>\n",
       "    </tr>\n",
       "    <tr>\n",
       "      <th>2</th>\n",
       "      <td>1</td>\n",
       "      <td>M</td>\n",
       "      <td>Shikhar Dhawan</td>\n",
       "      <td>India</td>\n",
       "      <td>DDCA</td>\n",
       "      <td>36</td>\n",
       "      <td>BATSMAN</td>\n",
       "      <td>LHB</td>\n",
       "      <td>-</td>\n",
       "      <td>192.0</td>\n",
       "      <td>DCH, MI, SRH, DC</td>\n",
       "      <td>DC</td>\n",
       "      <td>Capped</td>\n",
       "      <td>200</td>\n",
       "      <td>825.0</td>\n",
       "      <td>Punjab Kings</td>\n",
       "      <td>Sold</td>\n",
       "    </tr>\n",
       "    <tr>\n",
       "      <th>3</th>\n",
       "      <td>1</td>\n",
       "      <td>M</td>\n",
       "      <td>Shreyas Iyer</td>\n",
       "      <td>India</td>\n",
       "      <td>MCA</td>\n",
       "      <td>27</td>\n",
       "      <td>BATSMAN</td>\n",
       "      <td>RHB</td>\n",
       "      <td>RIGHT ARM Leg Spin</td>\n",
       "      <td>87.0</td>\n",
       "      <td>DC</td>\n",
       "      <td>DC</td>\n",
       "      <td>Capped</td>\n",
       "      <td>200</td>\n",
       "      <td>1225.0</td>\n",
       "      <td>Kolkata Knight Riders</td>\n",
       "      <td>Sold</td>\n",
       "    </tr>\n",
       "    <tr>\n",
       "      <th>4</th>\n",
       "      <td>1</td>\n",
       "      <td>M</td>\n",
       "      <td>Kagiso Rabada</td>\n",
       "      <td>South Africa</td>\n",
       "      <td>Foreign Player</td>\n",
       "      <td>26</td>\n",
       "      <td>BOWLER</td>\n",
       "      <td>LHB</td>\n",
       "      <td>RIGHT ARM Fast</td>\n",
       "      <td>50.0</td>\n",
       "      <td>DC</td>\n",
       "      <td>DC</td>\n",
       "      <td>Capped</td>\n",
       "      <td>200</td>\n",
       "      <td>925.0</td>\n",
       "      <td>Punjab Kings</td>\n",
       "      <td>Sold</td>\n",
       "    </tr>\n",
       "  </tbody>\n",
       "</table>\n",
       "</div>"
      ],
      "text/plain": [
       "   Set No. Set Name          Player       Country State Association  Age  \\\n",
       "0        1        M     Trent Boult   New Zealand    Foreign Player   32   \n",
       "1        1        M     Pat Cummins     Australia    Foreign Player   28   \n",
       "2        1        M  Shikhar Dhawan         India              DDCA   36   \n",
       "3        1        M    Shreyas Iyer         India               MCA   27   \n",
       "4        1        M   Kagiso Rabada  South Africa    Foreign Player   26   \n",
       "\n",
       "    Specialism Batting               Bowling    IPL Previous IPLTeam(s)  \\\n",
       "0       BOWLER     RHB  LEFT ARM Fast Medium   62.0     SRH, KKR, DD,MI   \n",
       "1  ALL-ROUNDER     RHB        RIGHT ARM Fast   37.0         DD, MI, KKR   \n",
       "2      BATSMAN     LHB                     -  192.0    DCH, MI, SRH, DC   \n",
       "3      BATSMAN     RHB    RIGHT ARM Leg Spin   87.0                  DC   \n",
       "4       BOWLER     LHB        RIGHT ARM Fast   50.0                  DC   \n",
       "\n",
       "  2021 Team   C/U/A  Base Price  Sold Price          New Franchise   Bid  \n",
       "0        MI  Capped         200       800.0       Rajasthan Royals  Sold  \n",
       "1       KKR  Capped         200       725.0  Kolkata Knight Riders  Sold  \n",
       "2        DC  Capped         200       825.0           Punjab Kings  Sold  \n",
       "3        DC  Capped         200      1225.0  Kolkata Knight Riders  Sold  \n",
       "4        DC  Capped         200       925.0           Punjab Kings  Sold  "
      ]
     },
     "execution_count": 324,
     "metadata": {},
     "output_type": "execute_result"
    }
   ],
   "source": [
    "df.head()"
   ]
  },
  {
   "cell_type": "code",
   "execution_count": 4,
   "metadata": {},
   "outputs": [
    {
     "name": "stdout",
     "output_type": "stream",
     "text": [
      "<class 'pandas.core.frame.DataFrame'>\n",
      "RangeIndex: 589 entries, 0 to 588\n",
      "Data columns (total 17 columns):\n",
      " #   Column               Non-Null Count  Dtype  \n",
      "---  ------               --------------  -----  \n",
      " 0   Set No.              589 non-null    int64  \n",
      " 1   Set Name             589 non-null    object \n",
      " 2   Player               589 non-null    object \n",
      " 3   Country              589 non-null    object \n",
      " 4   State Association    369 non-null    object \n",
      " 5   Age                  589 non-null    int64  \n",
      " 6   Specialism           589 non-null    object \n",
      " 7   Batting              589 non-null    object \n",
      " 8   Bowling              589 non-null    object \n",
      " 9   IPL                  270 non-null    float64\n",
      " 10  Previous IPLTeam(s)  265 non-null    object \n",
      " 11  2021 Team            165 non-null    object \n",
      " 12  C/U/A                589 non-null    object \n",
      " 13  Base Price           589 non-null    int64  \n",
      " 14  Sold Price           204 non-null    object \n",
      " 15  New Franchise        204 non-null    object \n",
      " 16  Bid                  589 non-null    object \n",
      "dtypes: float64(1), int64(3), object(13)\n",
      "memory usage: 78.4+ KB\n"
     ]
    }
   ],
   "source": [
    "df.info()"
   ]
  },
  {
   "cell_type": "markdown",
   "metadata": {},
   "source": [
    "# Set Analysis"
   ]
  },
  {
   "cell_type": "code",
   "execution_count": 5,
   "metadata": {},
   "outputs": [
    {
     "data": {
      "text/plain": [
       "count    589.000000\n",
       "mean      32.096774\n",
       "std       17.890516\n",
       "min        1.000000\n",
       "25%       17.000000\n",
       "50%       32.000000\n",
       "75%       48.000000\n",
       "max       62.000000\n",
       "Name: Set No., dtype: float64"
      ]
     },
     "execution_count": 5,
     "metadata": {},
     "output_type": "execute_result"
    }
   ],
   "source": [
    "df['Set No.'].describe()"
   ]
  },
  {
   "cell_type": "code",
   "execution_count": 6,
   "metadata": {},
   "outputs": [
    {
     "data": {
      "text/plain": [
       "Set No.\n",
       "1     10\n",
       "2      8\n",
       "3     10\n",
       "4      8\n",
       "5     10\n",
       "      ..\n",
       "58    10\n",
       "59    10\n",
       "60    10\n",
       "61    12\n",
       "62    12\n",
       "Length: 62, dtype: int64"
      ]
     },
     "execution_count": 6,
     "metadata": {},
     "output_type": "execute_result"
    }
   ],
   "source": [
    "df.groupby('Set No.').size()"
   ]
  },
  {
   "cell_type": "code",
   "execution_count": 7,
   "metadata": {},
   "outputs": [],
   "source": [
    "new_df = df.groupby('Set No.').size()"
   ]
  },
  {
   "cell_type": "code",
   "execution_count": 8,
   "metadata": {},
   "outputs": [
    {
     "data": {
      "text/plain": [
       "count    62.000000\n",
       "mean      9.500000\n",
       "std       1.127161\n",
       "min       7.000000\n",
       "25%       8.250000\n",
       "50%      10.000000\n",
       "75%      10.000000\n",
       "max      12.000000\n",
       "dtype: float64"
      ]
     },
     "execution_count": 8,
     "metadata": {},
     "output_type": "execute_result"
    }
   ],
   "source": [
    "new_df.describe()"
   ]
  },
  {
   "cell_type": "code",
   "execution_count": 323,
   "metadata": {},
   "outputs": [
    {
     "name": "stdout",
     "output_type": "stream",
     "text": [
      "There were in total 62 sets\n",
      "Maximum no of players in 1 set is 12\n",
      "Minimum no of players in 1 set is 7\n",
      "Average no of player in a set is 9\n"
     ]
    }
   ],
   "source": [
    "print('There were in total {} sets'.format(new_df.count()))\n",
    "print('Maximum no of players in 1 set is {}'.format(new_df.max()))\n",
    "print('Minimum no of players in 1 set is {}'.format(new_df.min()))\n",
    "print('Average no of player in a set is {}'.format(int(new_df.mean())))"
   ]
  },
  {
   "cell_type": "code",
   "execution_count": 9,
   "metadata": {},
   "outputs": [],
   "source": [
    "df['State Association'] = df['State Association'].fillna('Foreign Player')"
   ]
  },
  {
   "cell_type": "code",
   "execution_count": 10,
   "metadata": {},
   "outputs": [
    {
     "data": {
      "text/plain": [
       "0"
      ]
     },
     "execution_count": 10,
     "metadata": {},
     "output_type": "execute_result"
    }
   ],
   "source": [
    "df['State Association'].isna().sum()"
   ]
  },
  {
   "cell_type": "code",
   "execution_count": 11,
   "metadata": {},
   "outputs": [
    {
     "name": "stdout",
     "output_type": "stream",
     "text": [
      "<class 'pandas.core.frame.DataFrame'>\n",
      "RangeIndex: 589 entries, 0 to 588\n",
      "Data columns (total 17 columns):\n",
      " #   Column               Non-Null Count  Dtype  \n",
      "---  ------               --------------  -----  \n",
      " 0   Set No.              589 non-null    int64  \n",
      " 1   Set Name             589 non-null    object \n",
      " 2   Player               589 non-null    object \n",
      " 3   Country              589 non-null    object \n",
      " 4   State Association    589 non-null    object \n",
      " 5   Age                  589 non-null    int64  \n",
      " 6   Specialism           589 non-null    object \n",
      " 7   Batting              589 non-null    object \n",
      " 8   Bowling              589 non-null    object \n",
      " 9   IPL                  270 non-null    float64\n",
      " 10  Previous IPLTeam(s)  265 non-null    object \n",
      " 11  2021 Team            165 non-null    object \n",
      " 12  C/U/A                589 non-null    object \n",
      " 13  Base Price           589 non-null    int64  \n",
      " 14  Sold Price           204 non-null    object \n",
      " 15  New Franchise        204 non-null    object \n",
      " 16  Bid                  589 non-null    object \n",
      "dtypes: float64(1), int64(3), object(13)\n",
      "memory usage: 78.4+ KB\n"
     ]
    }
   ],
   "source": [
    "df.info()"
   ]
  },
  {
   "cell_type": "code",
   "execution_count": 12,
   "metadata": {},
   "outputs": [],
   "source": [
    "df['IPL'] = df['IPL'].fillna(0)"
   ]
  },
  {
   "cell_type": "code",
   "execution_count": 13,
   "metadata": {},
   "outputs": [
    {
     "data": {
      "text/plain": [
       "0"
      ]
     },
     "execution_count": 13,
     "metadata": {},
     "output_type": "execute_result"
    }
   ],
   "source": [
    "df['IPL'].isna().sum()"
   ]
  },
  {
   "cell_type": "code",
   "execution_count": 14,
   "metadata": {},
   "outputs": [
    {
     "name": "stdout",
     "output_type": "stream",
     "text": [
      "<class 'pandas.core.frame.DataFrame'>\n",
      "RangeIndex: 589 entries, 0 to 588\n",
      "Data columns (total 17 columns):\n",
      " #   Column               Non-Null Count  Dtype  \n",
      "---  ------               --------------  -----  \n",
      " 0   Set No.              589 non-null    int64  \n",
      " 1   Set Name             589 non-null    object \n",
      " 2   Player               589 non-null    object \n",
      " 3   Country              589 non-null    object \n",
      " 4   State Association    589 non-null    object \n",
      " 5   Age                  589 non-null    int64  \n",
      " 6   Specialism           589 non-null    object \n",
      " 7   Batting              589 non-null    object \n",
      " 8   Bowling              589 non-null    object \n",
      " 9   IPL                  589 non-null    float64\n",
      " 10  Previous IPLTeam(s)  265 non-null    object \n",
      " 11  2021 Team            165 non-null    object \n",
      " 12  C/U/A                589 non-null    object \n",
      " 13  Base Price           589 non-null    int64  \n",
      " 14  Sold Price           204 non-null    object \n",
      " 15  New Franchise        204 non-null    object \n",
      " 16  Bid                  589 non-null    object \n",
      "dtypes: float64(1), int64(3), object(13)\n",
      "memory usage: 78.4+ KB\n"
     ]
    }
   ],
   "source": [
    "df.info()"
   ]
  },
  {
   "cell_type": "code",
   "execution_count": 15,
   "metadata": {},
   "outputs": [
    {
     "data": {
      "text/html": [
       "<div>\n",
       "<style scoped>\n",
       "    .dataframe tbody tr th:only-of-type {\n",
       "        vertical-align: middle;\n",
       "    }\n",
       "\n",
       "    .dataframe tbody tr th {\n",
       "        vertical-align: top;\n",
       "    }\n",
       "\n",
       "    .dataframe thead th {\n",
       "        text-align: right;\n",
       "    }\n",
       "</style>\n",
       "<table border=\"1\" class=\"dataframe\">\n",
       "  <thead>\n",
       "    <tr style=\"text-align: right;\">\n",
       "      <th></th>\n",
       "      <th>Player</th>\n",
       "      <th>Previous IPLTeam(s)</th>\n",
       "    </tr>\n",
       "  </thead>\n",
       "  <tbody>\n",
       "    <tr>\n",
       "      <th>233</th>\n",
       "      <td>Mujtaba Yousuf</td>\n",
       "      <td>NaN</td>\n",
       "    </tr>\n",
       "    <tr>\n",
       "      <th>411</th>\n",
       "      <td>Ali Khan</td>\n",
       "      <td>KKR</td>\n",
       "    </tr>\n",
       "    <tr>\n",
       "      <th>464</th>\n",
       "      <td>Amit Mishra</td>\n",
       "      <td>RR, GL</td>\n",
       "    </tr>\n",
       "    <tr>\n",
       "      <th>476</th>\n",
       "      <td>Andile Phehlukwayo</td>\n",
       "      <td>NaN</td>\n",
       "    </tr>\n",
       "    <tr>\n",
       "      <th>3</th>\n",
       "      <td>Shreyas Iyer</td>\n",
       "      <td>DC</td>\n",
       "    </tr>\n",
       "  </tbody>\n",
       "</table>\n",
       "</div>"
      ],
      "text/plain": [
       "                 Player Previous IPLTeam(s)\n",
       "233      Mujtaba Yousuf                 NaN\n",
       "411            Ali Khan                 KKR\n",
       "464         Amit Mishra              RR, GL\n",
       "476  Andile Phehlukwayo                 NaN\n",
       "3          Shreyas Iyer                  DC"
      ]
     },
     "execution_count": 15,
     "metadata": {},
     "output_type": "execute_result"
    }
   ],
   "source": [
    "df[['Player','Previous IPLTeam(s)']].sample(5)"
   ]
  },
  {
   "cell_type": "code",
   "execution_count": 16,
   "metadata": {},
   "outputs": [],
   "source": [
    "df['Previous IPLTeam(s)'] = df['Previous IPLTeam(s)'].fillna('Not Played')"
   ]
  },
  {
   "cell_type": "code",
   "execution_count": 17,
   "metadata": {},
   "outputs": [
    {
     "data": {
      "text/plain": [
       "0"
      ]
     },
     "execution_count": 17,
     "metadata": {},
     "output_type": "execute_result"
    }
   ],
   "source": [
    "df['Previous IPLTeam(s)'].isna().sum()"
   ]
  },
  {
   "cell_type": "code",
   "execution_count": 18,
   "metadata": {},
   "outputs": [
    {
     "name": "stdout",
     "output_type": "stream",
     "text": [
      "<class 'pandas.core.frame.DataFrame'>\n",
      "RangeIndex: 589 entries, 0 to 588\n",
      "Data columns (total 17 columns):\n",
      " #   Column               Non-Null Count  Dtype  \n",
      "---  ------               --------------  -----  \n",
      " 0   Set No.              589 non-null    int64  \n",
      " 1   Set Name             589 non-null    object \n",
      " 2   Player               589 non-null    object \n",
      " 3   Country              589 non-null    object \n",
      " 4   State Association    589 non-null    object \n",
      " 5   Age                  589 non-null    int64  \n",
      " 6   Specialism           589 non-null    object \n",
      " 7   Batting              589 non-null    object \n",
      " 8   Bowling              589 non-null    object \n",
      " 9   IPL                  589 non-null    float64\n",
      " 10  Previous IPLTeam(s)  589 non-null    object \n",
      " 11  2021 Team            165 non-null    object \n",
      " 12  C/U/A                589 non-null    object \n",
      " 13  Base Price           589 non-null    int64  \n",
      " 14  Sold Price           204 non-null    object \n",
      " 15  New Franchise        204 non-null    object \n",
      " 16  Bid                  589 non-null    object \n",
      "dtypes: float64(1), int64(3), object(13)\n",
      "memory usage: 78.4+ KB\n"
     ]
    }
   ],
   "source": [
    "df.info()"
   ]
  },
  {
   "cell_type": "code",
   "execution_count": 19,
   "metadata": {},
   "outputs": [],
   "source": [
    "df['2021 Team'].fillna('Not Played',inplace=True)\n",
    "df['Sold Price'].fillna('0 CR',inplace=True)\n",
    "df['New Franchise'].fillna('Not Selected',inplace=True)"
   ]
  },
  {
   "cell_type": "code",
   "execution_count": 20,
   "metadata": {},
   "outputs": [],
   "source": [
    "def change(item):\n",
    "    price = item.split()\n",
    "    if price[1] == 'CR':\n",
    "        return float(price[0])*100\n",
    "    else:\n",
    "        return float(price[0])"
   ]
  },
  {
   "cell_type": "code",
   "execution_count": 21,
   "metadata": {},
   "outputs": [],
   "source": [
    "df['Sold Price'] = df['Sold Price'].apply(lambda item: change(item))"
   ]
  },
  {
   "cell_type": "code",
   "execution_count": null,
   "metadata": {},
   "outputs": [],
   "source": [
    "df.loc[148,'New Franchise'] = 'Lucknow Super Giants'"
   ]
  },
  {
   "cell_type": "code",
   "execution_count": null,
   "metadata": {},
   "outputs": [],
   "source": [
    "df[df['New Franchise']=='Gujarat Titan'].index\n",
    "df.loc[df[df['New Franchise']=='Gujarat Titan'].index,'New Franchise'] = 'Gujarat Titans'"
   ]
  },
  {
   "cell_type": "code",
   "execution_count": 22,
   "metadata": {},
   "outputs": [
    {
     "data": {
      "text/html": [
       "<div>\n",
       "<style scoped>\n",
       "    .dataframe tbody tr th:only-of-type {\n",
       "        vertical-align: middle;\n",
       "    }\n",
       "\n",
       "    .dataframe tbody tr th {\n",
       "        vertical-align: top;\n",
       "    }\n",
       "\n",
       "    .dataframe thead th {\n",
       "        text-align: right;\n",
       "    }\n",
       "</style>\n",
       "<table border=\"1\" class=\"dataframe\">\n",
       "  <thead>\n",
       "    <tr style=\"text-align: right;\">\n",
       "      <th></th>\n",
       "      <th>Player</th>\n",
       "      <th>Sold Price</th>\n",
       "    </tr>\n",
       "  </thead>\n",
       "  <tbody>\n",
       "    <tr>\n",
       "      <th>0</th>\n",
       "      <td>Trent Boult</td>\n",
       "      <td>800.0</td>\n",
       "    </tr>\n",
       "    <tr>\n",
       "      <th>1</th>\n",
       "      <td>Pat Cummins</td>\n",
       "      <td>725.0</td>\n",
       "    </tr>\n",
       "    <tr>\n",
       "      <th>2</th>\n",
       "      <td>Shikhar Dhawan</td>\n",
       "      <td>825.0</td>\n",
       "    </tr>\n",
       "    <tr>\n",
       "      <th>3</th>\n",
       "      <td>Shreyas Iyer</td>\n",
       "      <td>1225.0</td>\n",
       "    </tr>\n",
       "    <tr>\n",
       "      <th>4</th>\n",
       "      <td>Kagiso Rabada</td>\n",
       "      <td>925.0</td>\n",
       "    </tr>\n",
       "  </tbody>\n",
       "</table>\n",
       "</div>"
      ],
      "text/plain": [
       "           Player  Sold Price\n",
       "0     Trent Boult       800.0\n",
       "1     Pat Cummins       725.0\n",
       "2  Shikhar Dhawan       825.0\n",
       "3    Shreyas Iyer      1225.0\n",
       "4   Kagiso Rabada       925.0"
      ]
     },
     "execution_count": 22,
     "metadata": {},
     "output_type": "execute_result"
    }
   ],
   "source": [
    "df[['Player','Sold Price']].head(5)"
   ]
  },
  {
   "cell_type": "code",
   "execution_count": 23,
   "metadata": {},
   "outputs": [
    {
     "data": {
      "text/plain": [
       "Set No.                0\n",
       "Set Name               0\n",
       "Player                 0\n",
       "Country                0\n",
       "State Association      0\n",
       "Age                    0\n",
       "Specialism             0\n",
       "Batting                0\n",
       "Bowling                0\n",
       "IPL                    0\n",
       "Previous IPLTeam(s)    0\n",
       "2021 Team              0\n",
       "C/U/A                  0\n",
       "Base Price             0\n",
       "Sold Price             0\n",
       "New Franchise          0\n",
       "Bid                    0\n",
       "dtype: int64"
      ]
     },
     "execution_count": 23,
     "metadata": {},
     "output_type": "execute_result"
    }
   ],
   "source": [
    "df.isnull().sum()"
   ]
  },
  {
   "cell_type": "markdown",
   "metadata": {},
   "source": [
    "## Player Analysis"
   ]
  },
  {
   "cell_type": "code",
   "execution_count": 24,
   "metadata": {},
   "outputs": [
    {
     "data": {
      "text/html": [
       "<div>\n",
       "<style scoped>\n",
       "    .dataframe tbody tr th:only-of-type {\n",
       "        vertical-align: middle;\n",
       "    }\n",
       "\n",
       "    .dataframe tbody tr th {\n",
       "        vertical-align: top;\n",
       "    }\n",
       "\n",
       "    .dataframe thead th {\n",
       "        text-align: right;\n",
       "    }\n",
       "</style>\n",
       "<table border=\"1\" class=\"dataframe\">\n",
       "  <thead>\n",
       "    <tr style=\"text-align: right;\">\n",
       "      <th></th>\n",
       "      <th>Set No.</th>\n",
       "      <th>Set Name</th>\n",
       "      <th>Player</th>\n",
       "      <th>Country</th>\n",
       "      <th>State Association</th>\n",
       "      <th>Age</th>\n",
       "      <th>Specialism</th>\n",
       "      <th>Batting</th>\n",
       "      <th>Bowling</th>\n",
       "      <th>IPL</th>\n",
       "      <th>Previous IPLTeam(s)</th>\n",
       "      <th>2021 Team</th>\n",
       "      <th>C/U/A</th>\n",
       "      <th>Base Price</th>\n",
       "      <th>Sold Price</th>\n",
       "      <th>New Franchise</th>\n",
       "      <th>Bid</th>\n",
       "    </tr>\n",
       "  </thead>\n",
       "  <tbody>\n",
       "    <tr>\n",
       "      <th>0</th>\n",
       "      <td>1</td>\n",
       "      <td>M</td>\n",
       "      <td>Trent Boult</td>\n",
       "      <td>New Zealand</td>\n",
       "      <td>Foreign Player</td>\n",
       "      <td>32</td>\n",
       "      <td>BOWLER</td>\n",
       "      <td>RHB</td>\n",
       "      <td>LEFT ARM Fast Medium</td>\n",
       "      <td>62.0</td>\n",
       "      <td>SRH, KKR, DD,MI</td>\n",
       "      <td>MI</td>\n",
       "      <td>Capped</td>\n",
       "      <td>200</td>\n",
       "      <td>800.0</td>\n",
       "      <td>Rajasthan Royals</td>\n",
       "      <td>Sold</td>\n",
       "    </tr>\n",
       "    <tr>\n",
       "      <th>1</th>\n",
       "      <td>1</td>\n",
       "      <td>M</td>\n",
       "      <td>Pat Cummins</td>\n",
       "      <td>Australia</td>\n",
       "      <td>Foreign Player</td>\n",
       "      <td>28</td>\n",
       "      <td>ALL-ROUNDER</td>\n",
       "      <td>RHB</td>\n",
       "      <td>RIGHT ARM Fast</td>\n",
       "      <td>37.0</td>\n",
       "      <td>DD, MI, KKR</td>\n",
       "      <td>KKR</td>\n",
       "      <td>Capped</td>\n",
       "      <td>200</td>\n",
       "      <td>725.0</td>\n",
       "      <td>Kolkata Knight Riders</td>\n",
       "      <td>Sold</td>\n",
       "    </tr>\n",
       "    <tr>\n",
       "      <th>2</th>\n",
       "      <td>1</td>\n",
       "      <td>M</td>\n",
       "      <td>Shikhar Dhawan</td>\n",
       "      <td>India</td>\n",
       "      <td>DDCA</td>\n",
       "      <td>36</td>\n",
       "      <td>BATSMAN</td>\n",
       "      <td>LHB</td>\n",
       "      <td>-</td>\n",
       "      <td>192.0</td>\n",
       "      <td>DCH, MI, SRH, DC</td>\n",
       "      <td>DC</td>\n",
       "      <td>Capped</td>\n",
       "      <td>200</td>\n",
       "      <td>825.0</td>\n",
       "      <td>Punjab Kings</td>\n",
       "      <td>Sold</td>\n",
       "    </tr>\n",
       "    <tr>\n",
       "      <th>3</th>\n",
       "      <td>1</td>\n",
       "      <td>M</td>\n",
       "      <td>Shreyas Iyer</td>\n",
       "      <td>India</td>\n",
       "      <td>MCA</td>\n",
       "      <td>27</td>\n",
       "      <td>BATSMAN</td>\n",
       "      <td>RHB</td>\n",
       "      <td>RIGHT ARM Leg Spin</td>\n",
       "      <td>87.0</td>\n",
       "      <td>DC</td>\n",
       "      <td>DC</td>\n",
       "      <td>Capped</td>\n",
       "      <td>200</td>\n",
       "      <td>1225.0</td>\n",
       "      <td>Kolkata Knight Riders</td>\n",
       "      <td>Sold</td>\n",
       "    </tr>\n",
       "    <tr>\n",
       "      <th>4</th>\n",
       "      <td>1</td>\n",
       "      <td>M</td>\n",
       "      <td>Kagiso Rabada</td>\n",
       "      <td>South Africa</td>\n",
       "      <td>Foreign Player</td>\n",
       "      <td>26</td>\n",
       "      <td>BOWLER</td>\n",
       "      <td>LHB</td>\n",
       "      <td>RIGHT ARM Fast</td>\n",
       "      <td>50.0</td>\n",
       "      <td>DC</td>\n",
       "      <td>DC</td>\n",
       "      <td>Capped</td>\n",
       "      <td>200</td>\n",
       "      <td>925.0</td>\n",
       "      <td>Punjab Kings</td>\n",
       "      <td>Sold</td>\n",
       "    </tr>\n",
       "  </tbody>\n",
       "</table>\n",
       "</div>"
      ],
      "text/plain": [
       "   Set No. Set Name          Player       Country State Association  Age  \\\n",
       "0        1        M     Trent Boult   New Zealand    Foreign Player   32   \n",
       "1        1        M     Pat Cummins     Australia    Foreign Player   28   \n",
       "2        1        M  Shikhar Dhawan         India              DDCA   36   \n",
       "3        1        M    Shreyas Iyer         India               MCA   27   \n",
       "4        1        M   Kagiso Rabada  South Africa    Foreign Player   26   \n",
       "\n",
       "    Specialism Batting               Bowling    IPL Previous IPLTeam(s)  \\\n",
       "0       BOWLER     RHB  LEFT ARM Fast Medium   62.0     SRH, KKR, DD,MI   \n",
       "1  ALL-ROUNDER     RHB        RIGHT ARM Fast   37.0         DD, MI, KKR   \n",
       "2      BATSMAN     LHB                     -  192.0    DCH, MI, SRH, DC   \n",
       "3      BATSMAN     RHB    RIGHT ARM Leg Spin   87.0                  DC   \n",
       "4       BOWLER     LHB        RIGHT ARM Fast   50.0                  DC   \n",
       "\n",
       "  2021 Team   C/U/A  Base Price  Sold Price          New Franchise   Bid  \n",
       "0        MI  Capped         200       800.0       Rajasthan Royals  Sold  \n",
       "1       KKR  Capped         200       725.0  Kolkata Knight Riders  Sold  \n",
       "2        DC  Capped         200       825.0           Punjab Kings  Sold  \n",
       "3        DC  Capped         200      1225.0  Kolkata Knight Riders  Sold  \n",
       "4        DC  Capped         200       925.0           Punjab Kings  Sold  "
      ]
     },
     "execution_count": 24,
     "metadata": {},
     "output_type": "execute_result"
    }
   ],
   "source": [
    "df.head()"
   ]
  },
  {
   "cell_type": "code",
   "execution_count": 25,
   "metadata": {},
   "outputs": [
    {
     "data": {
      "text/plain": [
       "Country\n",
       "Afghanistan      17\n",
       "Australia        47\n",
       "Bangladesh        5\n",
       "England          24\n",
       "India           369\n",
       "Ireland           5\n",
       "Namibia           3\n",
       "Nepal             1\n",
       "New Zealand      24\n",
       "Scotland          2\n",
       "South Africa     33\n",
       "Sri Lanka        23\n",
       "USA               1\n",
       "West Indies      34\n",
       "Zimbabwe          1\n",
       "dtype: int64"
      ]
     },
     "execution_count": 25,
     "metadata": {},
     "output_type": "execute_result"
    }
   ],
   "source": [
    "df.groupby('Country').size()"
   ]
  },
  {
   "cell_type": "code",
   "execution_count": 26,
   "metadata": {},
   "outputs": [
    {
     "data": {
      "text/plain": [
       "count    589.000000\n",
       "mean      26.955857\n",
       "std        4.690208\n",
       "min       17.000000\n",
       "25%       23.000000\n",
       "50%       27.000000\n",
       "75%       30.000000\n",
       "max       43.000000\n",
       "Name: Age, dtype: float64"
      ]
     },
     "execution_count": 26,
     "metadata": {},
     "output_type": "execute_result"
    }
   ],
   "source": [
    "df['Age'].describe()"
   ]
  },
  {
   "cell_type": "code",
   "execution_count": 27,
   "metadata": {},
   "outputs": [
    {
     "data": {
      "text/html": [
       "<div>\n",
       "<style scoped>\n",
       "    .dataframe tbody tr th:only-of-type {\n",
       "        vertical-align: middle;\n",
       "    }\n",
       "\n",
       "    .dataframe tbody tr th {\n",
       "        vertical-align: top;\n",
       "    }\n",
       "\n",
       "    .dataframe thead th {\n",
       "        text-align: right;\n",
       "    }\n",
       "</style>\n",
       "<table border=\"1\" class=\"dataframe\">\n",
       "  <thead>\n",
       "    <tr style=\"text-align: right;\">\n",
       "      <th></th>\n",
       "      <th>Player</th>\n",
       "      <th>Age</th>\n",
       "      <th>Country</th>\n",
       "      <th>Sold Price</th>\n",
       "      <th>Bid</th>\n",
       "    </tr>\n",
       "  </thead>\n",
       "  <tbody>\n",
       "    <tr>\n",
       "      <th>72</th>\n",
       "      <td>Noor Ahmad</td>\n",
       "      <td>17</td>\n",
       "      <td>Afghanistan</td>\n",
       "      <td>30.0</td>\n",
       "      <td>Sold</td>\n",
       "    </tr>\n",
       "  </tbody>\n",
       "</table>\n",
       "</div>"
      ],
      "text/plain": [
       "        Player  Age      Country  Sold Price   Bid\n",
       "72  Noor Ahmad   17  Afghanistan        30.0  Sold"
      ]
     },
     "execution_count": 27,
     "metadata": {},
     "output_type": "execute_result"
    }
   ],
   "source": [
    "df[df['Age'] == df['Age'].min()][['Player','Age','Country','Sold Price','Bid']]"
   ]
  },
  {
   "cell_type": "code",
   "execution_count": 28,
   "metadata": {},
   "outputs": [
    {
     "data": {
      "text/html": [
       "<div>\n",
       "<style scoped>\n",
       "    .dataframe tbody tr th:only-of-type {\n",
       "        vertical-align: middle;\n",
       "    }\n",
       "\n",
       "    .dataframe tbody tr th {\n",
       "        vertical-align: top;\n",
       "    }\n",
       "\n",
       "    .dataframe thead th {\n",
       "        text-align: right;\n",
       "    }\n",
       "</style>\n",
       "<table border=\"1\" class=\"dataframe\">\n",
       "  <thead>\n",
       "    <tr style=\"text-align: right;\">\n",
       "      <th></th>\n",
       "      <th>Player</th>\n",
       "      <th>Age</th>\n",
       "      <th>Country</th>\n",
       "      <th>Sold Price</th>\n",
       "      <th>Bid</th>\n",
       "    </tr>\n",
       "  </thead>\n",
       "  <tbody>\n",
       "    <tr>\n",
       "      <th>192</th>\n",
       "      <td>Imran Tahir</td>\n",
       "      <td>43</td>\n",
       "      <td>South Africa</td>\n",
       "      <td>0.0</td>\n",
       "      <td>UnSold</td>\n",
       "    </tr>\n",
       "  </tbody>\n",
       "</table>\n",
       "</div>"
      ],
      "text/plain": [
       "          Player  Age       Country  Sold Price     Bid\n",
       "192  Imran Tahir   43  South Africa         0.0  UnSold"
      ]
     },
     "execution_count": 28,
     "metadata": {},
     "output_type": "execute_result"
    }
   ],
   "source": [
    "df[df['Age'] == df['Age'].max()][['Player','Age','Country','Sold Price','Bid']]"
   ]
  },
  {
   "cell_type": "code",
   "execution_count": 29,
   "metadata": {},
   "outputs": [
    {
     "name": "stdout",
     "output_type": "stream",
     "text": [
      "Most Players were from India with count of 369\n",
      "Most foreign Players were from Australia with count of 47\n",
      "Youngest Player in the auction - Noor Ahmad having age of 17 years( Sold)\n",
      "Youngest Player in the auction - Imran Tahir having age of 43 years( UnSold)\n",
      "Average age in the auction is 26 years\n"
     ]
    }
   ],
   "source": [
    "print('Most Players were from India with count of {}'.format(len(df[df['Country'] == 'India'])))\n",
    "print('Most foreign Players were from Australia with count of {}'.format(len(df[df['Country'] == 'Australia'])))\n",
    "print('Youngest Player in the auction -{} having age of{} years({})'.format(df[df['Age'] == df['Age'].min()]['Player'].to_string(index=False), df[df['Age'] == df['Age'].min()].Age.to_string(index=False),df[df['Age'] == df['Age'].min()].Bid.to_string(index=False)))\n",
    "print('Youngest Player in the auction -{} having age of{} years({})'.format(df[df['Age'] == df['Age'].max()]['Player'].to_string(index=False), df[df['Age'] == df['Age'].max()].Age.to_string(index=False),df[df['Age'] == df['Age'].max()].Bid.to_string(index=False)))\n",
    "print('Average age in the auction is {} years'.format(int(df['Age'].mean())))"
   ]
  },
  {
   "cell_type": "code",
   "execution_count": 30,
   "metadata": {},
   "outputs": [
    {
     "name": "stderr",
     "output_type": "stream",
     "text": [
      "C:\\Users\\HP\\anaconda3\\lib\\site-packages\\seaborn\\distributions.py:2551: FutureWarning: `distplot` is a deprecated function and will be removed in a future version. Please adapt your code to use either `displot` (a figure-level function with similar flexibility) or `histplot` (an axes-level function for histograms).\n",
      "  warnings.warn(msg, FutureWarning)\n"
     ]
    },
    {
     "data": {
      "image/png": "[encoded data removed]",
      "text/plain": [
       "<Figure size 432x288 with 1 Axes>"
      ]
     },
     "metadata": {
      "needs_background": "light"
     },
     "output_type": "display_data"
    }
   ],
   "source": [
    "sns.distplot(df['Age'])\n",
    "plt.title('Age distribution in the auction')\n",
    "plt.show()"
   ]
  },
  {
   "cell_type": "markdown",
   "metadata": {},
   "source": [
    "### Sold Players Analysis"
   ]
  },
  {
   "cell_type": "code",
   "execution_count": 31,
   "metadata": {},
   "outputs": [
    {
     "name": "stderr",
     "output_type": "stream",
     "text": [
      "C:\\Users\\HP\\anaconda3\\lib\\site-packages\\seaborn\\distributions.py:2551: FutureWarning: `distplot` is a deprecated function and will be removed in a future version. Please adapt your code to use either `displot` (a figure-level function with similar flexibility) or `histplot` (an axes-level function for histograms).\n",
      "  warnings.warn(msg, FutureWarning)\n"
     ]
    },
    {
     "data": {
      "image/png": "[encoded data removed]",
      "text/plain": [
       "<Figure size 432x288 with 1 Axes>"
      ]
     },
     "metadata": {
      "needs_background": "light"
     },
     "output_type": "display_data"
    }
   ],
   "source": [
    "sns.distplot(df['Sold Price'], bins=5)\n",
    "plt.title('Sold Price distribution in the auction')\n",
    "plt.show()"
   ]
  },
  {
   "cell_type": "code",
   "execution_count": 32,
   "metadata": {},
   "outputs": [
    {
     "data": {
      "text/html": [
       "<div>\n",
       "<style scoped>\n",
       "    .dataframe tbody tr th:only-of-type {\n",
       "        vertical-align: middle;\n",
       "    }\n",
       "\n",
       "    .dataframe tbody tr th {\n",
       "        vertical-align: top;\n",
       "    }\n",
       "\n",
       "    .dataframe thead th {\n",
       "        text-align: right;\n",
       "    }\n",
       "</style>\n",
       "<table border=\"1\" class=\"dataframe\">\n",
       "  <thead>\n",
       "    <tr style=\"text-align: right;\">\n",
       "      <th></th>\n",
       "      <th>Set No.</th>\n",
       "      <th>Set Name</th>\n",
       "      <th>Player</th>\n",
       "      <th>Country</th>\n",
       "      <th>State Association</th>\n",
       "      <th>Age</th>\n",
       "      <th>Specialism</th>\n",
       "      <th>Batting</th>\n",
       "      <th>Bowling</th>\n",
       "      <th>IPL</th>\n",
       "      <th>Previous IPLTeam(s)</th>\n",
       "      <th>2021 Team</th>\n",
       "      <th>C/U/A</th>\n",
       "      <th>Base Price</th>\n",
       "      <th>Sold Price</th>\n",
       "      <th>New Franchise</th>\n",
       "      <th>Bid</th>\n",
       "    </tr>\n",
       "  </thead>\n",
       "  <tbody>\n",
       "    <tr>\n",
       "      <th>72</th>\n",
       "      <td>11</td>\n",
       "      <td>USP1</td>\n",
       "      <td>Noor Ahmad</td>\n",
       "      <td>Afghanistan</td>\n",
       "      <td>Foreign Player</td>\n",
       "      <td>17</td>\n",
       "      <td>BOWLER</td>\n",
       "      <td>RHB</td>\n",
       "      <td>LEFT ARM Slow Unorthodox</td>\n",
       "      <td>0.0</td>\n",
       "      <td>Not Played</td>\n",
       "      <td>Not Played</td>\n",
       "      <td>Uncapped</td>\n",
       "      <td>30</td>\n",
       "      <td>30.0</td>\n",
       "      <td>Gujarat Titans</td>\n",
       "      <td>Sold</td>\n",
       "    </tr>\n",
       "  </tbody>\n",
       "</table>\n",
       "</div>"
      ],
      "text/plain": [
       "    Set No. Set Name      Player      Country State Association  Age  \\\n",
       "72       11     USP1  Noor Ahmad  Afghanistan    Foreign Player   17   \n",
       "\n",
       "   Specialism Batting                   Bowling  IPL Previous IPLTeam(s)  \\\n",
       "72     BOWLER     RHB  LEFT ARM Slow Unorthodox  0.0          Not Played   \n",
       "\n",
       "     2021 Team     C/U/A  Base Price  Sold Price   New Franchise   Bid  \n",
       "72  Not Played  Uncapped          30        30.0  Gujarat Titans  Sold  "
      ]
     },
     "execution_count": 32,
     "metadata": {},
     "output_type": "execute_result"
    }
   ],
   "source": [
    "df[(df['Bid'] == 'Sold') & (df['Age'] == df['Age'].min())]"
   ]
  },
  {
   "cell_type": "code",
   "execution_count": 33,
   "metadata": {},
   "outputs": [],
   "source": [
    "maxSoldAge = df[df['Bid'] == 'Sold']['Age'].max()"
   ]
  },
  {
   "cell_type": "code",
   "execution_count": 34,
   "metadata": {},
   "outputs": [
    {
     "data": {
      "text/html": [
       "<div>\n",
       "<style scoped>\n",
       "    .dataframe tbody tr th:only-of-type {\n",
       "        vertical-align: middle;\n",
       "    }\n",
       "\n",
       "    .dataframe tbody tr th {\n",
       "        vertical-align: top;\n",
       "    }\n",
       "\n",
       "    .dataframe thead th {\n",
       "        text-align: right;\n",
       "    }\n",
       "</style>\n",
       "<table border=\"1\" class=\"dataframe\">\n",
       "  <thead>\n",
       "    <tr style=\"text-align: right;\">\n",
       "      <th></th>\n",
       "      <th>Set No.</th>\n",
       "      <th>Set Name</th>\n",
       "      <th>Player</th>\n",
       "      <th>Country</th>\n",
       "      <th>State Association</th>\n",
       "      <th>Age</th>\n",
       "      <th>Specialism</th>\n",
       "      <th>Batting</th>\n",
       "      <th>Bowling</th>\n",
       "      <th>IPL</th>\n",
       "      <th>Previous IPLTeam(s)</th>\n",
       "      <th>2021 Team</th>\n",
       "      <th>C/U/A</th>\n",
       "      <th>Base Price</th>\n",
       "      <th>Sold Price</th>\n",
       "      <th>New Franchise</th>\n",
       "      <th>Bid</th>\n",
       "    </tr>\n",
       "  </thead>\n",
       "  <tbody>\n",
       "    <tr>\n",
       "      <th>16</th>\n",
       "      <td>3</td>\n",
       "      <td>AL1</td>\n",
       "      <td>Dwayne Bravo</td>\n",
       "      <td>West Indies</td>\n",
       "      <td>Foreign Player</td>\n",
       "      <td>38</td>\n",
       "      <td>ALL-ROUNDER</td>\n",
       "      <td>RHB</td>\n",
       "      <td>RIGHT ARM Fast Medium</td>\n",
       "      <td>151.0</td>\n",
       "      <td>MI, GL, CSK</td>\n",
       "      <td>CSK</td>\n",
       "      <td>Capped</td>\n",
       "      <td>200</td>\n",
       "      <td>440.0</td>\n",
       "      <td>Chennai Super Kings</td>\n",
       "      <td>Sold</td>\n",
       "    </tr>\n",
       "  </tbody>\n",
       "</table>\n",
       "</div>"
      ],
      "text/plain": [
       "    Set No. Set Name        Player      Country State Association  Age  \\\n",
       "16        3      AL1  Dwayne Bravo  West Indies    Foreign Player   38   \n",
       "\n",
       "     Specialism Batting                Bowling    IPL Previous IPLTeam(s)  \\\n",
       "16  ALL-ROUNDER     RHB  RIGHT ARM Fast Medium  151.0         MI, GL, CSK   \n",
       "\n",
       "   2021 Team   C/U/A  Base Price  Sold Price        New Franchise   Bid  \n",
       "16       CSK  Capped         200       440.0  Chennai Super Kings  Sold  "
      ]
     },
     "execution_count": 34,
     "metadata": {},
     "output_type": "execute_result"
    }
   ],
   "source": [
    "df[(df['Age'] == maxSoldAge) & (df['Bid'] == 'Sold')]"
   ]
  },
  {
   "cell_type": "code",
   "execution_count": 35,
   "metadata": {},
   "outputs": [
    {
     "name": "stdout",
     "output_type": "stream",
     "text": [
      "Average age of players sold in auction is 27\n",
      "Youngest Player sold is Noor Ahmad having age of 17 years\n",
      "Eldest Player sold is Dwayne Bravo having age of 38 years\n"
     ]
    }
   ],
   "source": [
    "print(\"Average age of players sold in auction is {}\".format(int(df[df['Bid'] == 'Sold']['Age'].mean())))\n",
    "print(\"Youngest Player sold is{} having age of{} years\".format(df[(df['Bid'] == 'Sold') & (df['Age'] == df['Age'].min())]['Player'].to_string(index=False),df[(df['Bid'] == 'Sold') & (df['Age'] == df['Age'].min())]['Age'].to_string(index=False)))\n",
    "print(\"Eldest Player sold is{} having age of{} years\".format(df[(df['Age'] == maxSoldAge) & (df['Bid'] == 'Sold')]['Player'].to_string(index=False),df[(df['Age'] == maxSoldAge) & (df['Bid'] == 'Sold')]['Age'].to_string(index=False)))"
   ]
  },
  {
   "cell_type": "code",
   "execution_count": 36,
   "metadata": {},
   "outputs": [],
   "source": [
    "df1 = df[df['Country'] != \"India\"]"
   ]
  },
  {
   "cell_type": "code",
   "execution_count": 37,
   "metadata": {},
   "outputs": [
    {
     "name": "stdout",
     "output_type": "stream",
     "text": [
      "Most expensive INDIAN player in the auction is Ishan Kishan at 1525.0 lakhs\n",
      "Most expensive OVERSEAS player in the auction is Liam Livingstone at 1150.0 lakhs\n"
     ]
    }
   ],
   "source": [
    "print('Most expensive INDIAN player in the auction is{} at{} lakhs'.format(df[(df['Bid'] == 'Sold') & (df['Country'] == \"India\") & (df['Sold Price'] == df['Sold Price'].max())]['Player'].to_string(index=False),df[(df['Bid'] == 'Sold') & (df['Country'] == \"India\") & (df['Sold Price'] == df['Sold Price'].max())]['Sold Price'].to_string(index=False)))\n",
    "print('Most expensive OVERSEAS player in the auction is{} at{} lakhs'.format(df1[(df1['Bid'] == 'Sold') & (df1['Sold Price'] == df1['Sold Price'].max())]['Player'].to_string(index=False),df1[(df1['Bid'] == 'Sold') & (df1['Sold Price'] == df1['Sold Price'].max())]['Sold Price'].to_string(index=False)))"
   ]
  },
  {
   "cell_type": "code",
   "execution_count": 38,
   "metadata": {},
   "outputs": [
    {
     "name": "stderr",
     "output_type": "stream",
     "text": [
      "C:\\Users\\HP\\anaconda3\\lib\\site-packages\\seaborn\\distributions.py:2551: FutureWarning: `distplot` is a deprecated function and will be removed in a future version. Please adapt your code to use either `displot` (a figure-level function with similar flexibility) or `histplot` (an axes-level function for histograms).\n",
      "  warnings.warn(msg, FutureWarning)\n"
     ]
    },
    {
     "data": {
      "image/png": "[encoded data removed]",
      "text/plain": [
       "<Figure size 432x288 with 1 Axes>"
      ]
     },
     "metadata": {
      "needs_background": "light"
     },
     "output_type": "display_data"
    }
   ],
   "source": [
    "sns.distplot(df[(df['Country']=='India')&(df['Bid']=='Sold')]['Sold Price'], bins=5)\n",
    "plt.title('Indian buys Price analysis')\n",
    "plt.show()"
   ]
  },
  {
   "cell_type": "code",
   "execution_count": 39,
   "metadata": {},
   "outputs": [
    {
     "name": "stderr",
     "output_type": "stream",
     "text": [
      "C:\\Users\\HP\\anaconda3\\lib\\site-packages\\seaborn\\distributions.py:2551: FutureWarning: `distplot` is a deprecated function and will be removed in a future version. Please adapt your code to use either `displot` (a figure-level function with similar flexibility) or `histplot` (an axes-level function for histograms).\n",
      "  warnings.warn(msg, FutureWarning)\n"
     ]
    },
    {
     "data": {
      "image/png": "[encoded data removed]",
      "text/plain": [
       "<Figure size 432x288 with 1 Axes>"
      ]
     },
     "metadata": {
      "needs_background": "light"
     },
     "output_type": "display_data"
    }
   ],
   "source": [
    "sns.distplot(df1[df1['Bid']=='Sold']['Sold Price'], bins=5)\n",
    "plt.title('Overseas buys Price analysis')\n",
    "plt.show()"
   ]
  },
  {
   "cell_type": "code",
   "execution_count": 40,
   "metadata": {},
   "outputs": [
    {
     "data": {
      "image/png": "[encoded data removed]",
      "text/plain": [
       "<Figure size 432x288 with 1 Axes>"
      ]
     },
     "metadata": {},
     "output_type": "display_data"
    }
   ],
   "source": [
    "labels = ['Unsold Players','Sold Players']\n",
    "plt.pie(df['Bid'].value_counts(),labels=labels, autopct = '%0.0f%%')\n",
    "plt.legend()\n",
    "plt.title('Players in auction')\n",
    "plt.show()"
   ]
  },
  {
   "cell_type": "code",
   "execution_count": 41,
   "metadata": {},
   "outputs": [],
   "source": [
    "soldPlayers = df[df['Bid'] == 'Sold']"
   ]
  },
  {
   "cell_type": "code",
   "execution_count": 42,
   "metadata": {},
   "outputs": [
    {
     "name": "stderr",
     "output_type": "stream",
     "text": [
      "C:\\Users\\HP\\anaconda3\\lib\\site-packages\\pandas\\core\\indexing.py:1765: SettingWithCopyWarning: \n",
      "A value is trying to be set on a copy of a slice from a DataFrame.\n",
      "Try using .loc[row_indexer,col_indexer] = value instead\n",
      "\n",
      "See the caveats in the documentation: https://pandas.pydata.org/pandas-docs/stable/user_guide/indexing.html#returning-a-view-versus-a-copy\n",
      "  isetter(loc, value)\n"
     ]
    }
   ],
   "source": [
    "for i in range(len(soldPlayers['Country'])):\n",
    "    if soldPlayers.iloc[i,3] != \"India\":\n",
    "        soldPlayers.iloc[i,3] = 'Overseas'"
   ]
  },
  {
   "cell_type": "code",
   "execution_count": null,
   "metadata": {},
   "outputs": [],
   "source": []
  },
  {
   "cell_type": "code",
   "execution_count": 43,
   "metadata": {},
   "outputs": [
    {
     "data": {
      "image/png": "[encoded data removed]",
      "text/plain": [
       "<Figure size 432x288 with 1 Axes>"
      ]
     },
     "metadata": {},
     "output_type": "display_data"
    }
   ],
   "source": [
    "labels = ['Indian Players','Overseas Players']\n",
    "plt.pie(soldPlayers['Country'].value_counts(),labels=labels, autopct = '%0.0f%%')\n",
    "plt.legend()\n",
    "plt.title('Sold Players: Indian vs Overseas')\n",
    "plt.show()"
   ]
  },
  {
   "cell_type": "code",
   "execution_count": 44,
   "metadata": {},
   "outputs": [
    {
     "name": "stderr",
     "output_type": "stream",
     "text": [
      "C:\\Users\\HP\\anaconda3\\lib\\site-packages\\seaborn\\_decorators.py:36: FutureWarning: Pass the following variables as keyword args: x, y. From version 0.12, the only valid positional argument will be `data`, and passing other arguments without an explicit keyword will result in an error or misinterpretation.\n",
      "  warnings.warn(\n"
     ]
    },
    {
     "data": {
      "image/png": "[encoded data removed]",
      "text/plain": [
       "<Figure size 432x288 with 1 Axes>"
      ]
     },
     "metadata": {
      "needs_background": "light"
     },
     "output_type": "display_data"
    }
   ],
   "source": [
    "sns.barplot(soldPlayers['Base Price'], soldPlayers['Sold Price'],hue=soldPlayers['Country'],ci=None,saturation = 0.2)\n",
    "plt.title('Base Price vs Sold Price ')\n",
    "plt.show()"
   ]
  },
  {
   "cell_type": "code",
   "execution_count": 45,
   "metadata": {},
   "outputs": [
    {
     "data": {
      "image/png": "[encoded data removed]",
      "text/plain": [
       "<Figure size 432x288 with 1 Axes>"
      ]
     },
     "metadata": {
      "needs_background": "light"
     },
     "output_type": "display_data"
    }
   ],
   "source": [
    "sns.lineplot(x=\"Base Price\", y=\"Sold Price\",  hue='Country',data=soldPlayers)\n",
    "plt.title('Trends in Sold Price on the basis of Base Price')\n",
    "plt.show()"
   ]
  },
  {
   "cell_type": "code",
   "execution_count": 82,
   "metadata": {},
   "outputs": [],
   "source": [
    "stateAsso = soldPlayers['State Association'].value_counts().to_frame().reset_index()"
   ]
  },
  {
   "cell_type": "code",
   "execution_count": 104,
   "metadata": {},
   "outputs": [],
   "source": [
    "stateAsso = stateAsso.rename(columns={'index':'State Association','State Association':'No. of Players'})"
   ]
  },
  {
   "cell_type": "code",
   "execution_count": 84,
   "metadata": {},
   "outputs": [],
   "source": [
    "stateAsso.drop(0,axis=0, inplace=True)"
   ]
  },
  {
   "cell_type": "code",
   "execution_count": 105,
   "metadata": {},
   "outputs": [
    {
     "data": {
      "text/html": [
       "<div>\n",
       "<style scoped>\n",
       "    .dataframe tbody tr th:only-of-type {\n",
       "        vertical-align: middle;\n",
       "    }\n",
       "\n",
       "    .dataframe tbody tr th {\n",
       "        vertical-align: top;\n",
       "    }\n",
       "\n",
       "    .dataframe thead th {\n",
       "        text-align: right;\n",
       "    }\n",
       "</style>\n",
       "<table border=\"1\" class=\"dataframe\">\n",
       "  <thead>\n",
       "    <tr style=\"text-align: right;\">\n",
       "      <th></th>\n",
       "      <th>No. of Sold Players</th>\n",
       "      <th>No. of Players</th>\n",
       "    </tr>\n",
       "  </thead>\n",
       "  <tbody>\n",
       "    <tr>\n",
       "      <th>1</th>\n",
       "      <td>TNCA</td>\n",
       "      <td>13</td>\n",
       "    </tr>\n",
       "    <tr>\n",
       "      <th>2</th>\n",
       "      <td>KSCA</td>\n",
       "      <td>13</td>\n",
       "    </tr>\n",
       "  </tbody>\n",
       "</table>\n",
       "</div>"
      ],
      "text/plain": [
       "  No. of Sold Players  No. of Players\n",
       "1                TNCA              13\n",
       "2                KSCA              13"
      ]
     },
     "execution_count": 105,
     "metadata": {},
     "output_type": "execute_result"
    }
   ],
   "source": [
    "stateAsso.head(2)"
   ]
  },
  {
   "cell_type": "code",
   "execution_count": 108,
   "metadata": {},
   "outputs": [],
   "source": [
    "stateAsso = stateAsso.rename(columns={'No. of Sold Players':'State Association','No. of Players':'No. of Sold Players'})"
   ]
  },
  {
   "cell_type": "code",
   "execution_count": 182,
   "metadata": {},
   "outputs": [
    {
     "data": {
      "image/png": "[encoded data removed]",
      "text/plain": [
       "<Figure size 1800x720 with 1 Axes>"
      ]
     },
     "metadata": {},
     "output_type": "display_data"
    }
   ],
   "source": [
    "sns.set_theme(style=\"whitegrid\")\n",
    "# Initialize the matplotlib figure\n",
    "sns.set_color_codes(\"pastel\")\n",
    "f, ax = plt.subplots(figsize=(25, 10))\n",
    "sns.barplot(y=\"No. of Sold Players\", x=\"State Association\", data=stateAsso,color=\"b\")\n",
    "plt.title('Indian Players from each state association')\n",
    "plt.show()"
   ]
  },
  {
   "cell_type": "code",
   "execution_count": 227,
   "metadata": {},
   "outputs": [],
   "source": [
    "MaxPlayerStates = stateAsso[stateAsso['No. of Sold Players'] == stateAsso['No. of Sold Players'].max()]['State Association'].to_string(index=False).split('\\n')"
   ]
  },
  {
   "cell_type": "code",
   "execution_count": 242,
   "metadata": {},
   "outputs": [],
   "source": [
    "MinPlayerStates = stateAsso[stateAsso['No. of Sold Players'] == stateAsso['No. of Sold Players'].min()]['State Association'].to_string(index=False).split('\\n')"
   ]
  },
  {
   "cell_type": "code",
   "execution_count": 249,
   "metadata": {},
   "outputs": [
    {
     "name": "stdout",
     "output_type": "stream",
     "text": [
      "State Association with maximum Players are TNCA, KSCA, DDCA with count of 13 Players\n",
      "State Association with minimum Player are GCA,ASCA,BICA,JKCA,CSCSCA,GUCA,OCA with count of 1 Players\n"
     ]
    }
   ],
   "source": [
    "print('State Association with maximum Players are{},{},{} with count of {} Players'.format(MaxPlayerStates[0],MaxPlayerStates[1],MaxPlayerStates[2],stateAsso['No. of Sold Players'].max()))\n",
    "print('State Association with minimum Player are {},{},{},{},{},{},{} with count of {} Players'.format(MinPlayerStates[0].strip(),MinPlayerStates[1].strip(),MinPlayerStates[2].strip(),MinPlayerStates[3].strip(),MinPlayerStates[4].strip(),MinPlayerStates[5].strip(),MinPlayerStates[6].strip(),stateAsso['No. of Sold Players'].min()))"
   ]
  },
  {
   "cell_type": "code",
   "execution_count": 111,
   "metadata": {},
   "outputs": [
    {
     "data": {
      "text/plain": [
       "Uncapped     354\n",
       "Capped       228\n",
       "Associate      7\n",
       "Name: C/U/A, dtype: int64"
      ]
     },
     "execution_count": 111,
     "metadata": {},
     "output_type": "execute_result"
    }
   ],
   "source": [
    "df['C/U/A'].value_counts()"
   ]
  },
  {
   "cell_type": "code",
   "execution_count": 135,
   "metadata": {},
   "outputs": [
    {
     "data": {
      "image/png": "[encoded data removed]",
      "text/plain": [
       "<Figure size 360x360 with 1 Axes>"
      ]
     },
     "metadata": {},
     "output_type": "display_data"
    }
   ],
   "source": [
    "labels = ['Uncapped Players','Capped Players']\n",
    "sns.set_theme(style=\"whitegrid\")\n",
    "# Initialize the matplotlib figure\n",
    "sns.set_color_codes(\"pastel\")\n",
    "f, ax = plt.subplots(figsize=(5, 5))\n",
    "plt.pie(soldPlayers['C/U/A'].value_counts(),labels=labels, autopct = '%0.0f%%',colors=['xkcd:sky blue','tab:orange'])\n",
    "plt.legend()\n",
    "ax.legend(labels,loc=0,title =\"Players\")\n",
    "plt.title('Sold Players: Capped vs Uncapped')\n",
    "plt.show()"
   ]
  },
  {
   "cell_type": "code",
   "execution_count": 195,
   "metadata": {},
   "outputs": [],
   "source": [
    "franPlayers = soldPlayers['New Franchise'].value_counts().to_frame().reset_index()"
   ]
  },
  {
   "cell_type": "code",
   "execution_count": 196,
   "metadata": {},
   "outputs": [],
   "source": [
    "franPlayers.rename(columns={'index':'Team','New Franchise':'Total Players'},inplace=True)"
   ]
  },
  {
   "cell_type": "code",
   "execution_count": 197,
   "metadata": {},
   "outputs": [
    {
     "data": {
      "image/png": "[encoded data removed]",
      "text/plain": [
       "<Figure size 1800x720 with 1 Axes>"
      ]
     },
     "metadata": {},
     "output_type": "display_data"
    }
   ],
   "source": [
    "sns.set_theme(style=\"whitegrid\")\n",
    "# Initialize the matplotlib figure\n",
    "f, ax = plt.subplots(figsize=(25, 10))\n",
    "sns.barplot(y=\"Total Players\", x=\"Team\", data=franPlayers,color=\"b\")\n",
    "plt.title('Squad size of each team')\n",
    "plt.show()"
   ]
  },
  {
   "cell_type": "code",
   "execution_count": 214,
   "metadata": {},
   "outputs": [
    {
     "name": "stdout",
     "output_type": "stream",
     "text": [
      "Squad size of Punjab Kings is maximum with 23 players\n",
      "Squad size of Lucknow Super Giants is minimum with 18 players\n"
     ]
    }
   ],
   "source": [
    "print('Squad size of Punjab Kings is maximum with{} players'.format(franPlayers[franPlayers['Team']=='Punjab Kings']['Total Players'].to_string(index=False)))\n",
    "print('Squad size of Lucknow Super Giants is minimum with{} players'.format(franPlayers[franPlayers['Team']=='Lucknow Super Giants']['Total Players'].to_string(index=False)))"
   ]
  },
  {
   "cell_type": "code",
   "execution_count": 205,
   "metadata": {},
   "outputs": [
    {
     "data": {
      "text/html": [
       "<div>\n",
       "<style scoped>\n",
       "    .dataframe tbody tr th:only-of-type {\n",
       "        vertical-align: middle;\n",
       "    }\n",
       "\n",
       "    .dataframe tbody tr th {\n",
       "        vertical-align: top;\n",
       "    }\n",
       "\n",
       "    .dataframe thead th {\n",
       "        text-align: right;\n",
       "    }\n",
       "</style>\n",
       "<table border=\"1\" class=\"dataframe\">\n",
       "  <thead>\n",
       "    <tr style=\"text-align: right;\">\n",
       "      <th></th>\n",
       "      <th>Set No.</th>\n",
       "      <th>Set Name</th>\n",
       "      <th>Player</th>\n",
       "      <th>Country</th>\n",
       "      <th>State Association</th>\n",
       "      <th>Age</th>\n",
       "      <th>Specialism</th>\n",
       "      <th>Batting</th>\n",
       "      <th>Bowling</th>\n",
       "      <th>IPL</th>\n",
       "      <th>Previous IPLTeam(s)</th>\n",
       "      <th>2021 Team</th>\n",
       "      <th>C/U/A</th>\n",
       "      <th>Base Price</th>\n",
       "      <th>Sold Price</th>\n",
       "      <th>New Franchise</th>\n",
       "      <th>Bid</th>\n",
       "    </tr>\n",
       "  </thead>\n",
       "  <tbody>\n",
       "    <tr>\n",
       "      <th>0</th>\n",
       "      <td>1</td>\n",
       "      <td>M</td>\n",
       "      <td>Trent Boult</td>\n",
       "      <td>New Zealand</td>\n",
       "      <td>Foreign Player</td>\n",
       "      <td>32</td>\n",
       "      <td>BOWLER</td>\n",
       "      <td>RHB</td>\n",
       "      <td>LEFT ARM Fast Medium</td>\n",
       "      <td>62.0</td>\n",
       "      <td>SRH, KKR, DD,MI</td>\n",
       "      <td>MI</td>\n",
       "      <td>Capped</td>\n",
       "      <td>200</td>\n",
       "      <td>800.0</td>\n",
       "      <td>Rajasthan Royals</td>\n",
       "      <td>Sold</td>\n",
       "    </tr>\n",
       "    <tr>\n",
       "      <th>1</th>\n",
       "      <td>1</td>\n",
       "      <td>M</td>\n",
       "      <td>Pat Cummins</td>\n",
       "      <td>Australia</td>\n",
       "      <td>Foreign Player</td>\n",
       "      <td>28</td>\n",
       "      <td>ALL-ROUNDER</td>\n",
       "      <td>RHB</td>\n",
       "      <td>RIGHT ARM Fast</td>\n",
       "      <td>37.0</td>\n",
       "      <td>DD, MI, KKR</td>\n",
       "      <td>KKR</td>\n",
       "      <td>Capped</td>\n",
       "      <td>200</td>\n",
       "      <td>725.0</td>\n",
       "      <td>Kolkata Knight Riders</td>\n",
       "      <td>Sold</td>\n",
       "    </tr>\n",
       "    <tr>\n",
       "      <th>2</th>\n",
       "      <td>1</td>\n",
       "      <td>M</td>\n",
       "      <td>Shikhar Dhawan</td>\n",
       "      <td>India</td>\n",
       "      <td>DDCA</td>\n",
       "      <td>36</td>\n",
       "      <td>BATSMAN</td>\n",
       "      <td>LHB</td>\n",
       "      <td>-</td>\n",
       "      <td>192.0</td>\n",
       "      <td>DCH, MI, SRH, DC</td>\n",
       "      <td>DC</td>\n",
       "      <td>Capped</td>\n",
       "      <td>200</td>\n",
       "      <td>825.0</td>\n",
       "      <td>Punjab Kings</td>\n",
       "      <td>Sold</td>\n",
       "    </tr>\n",
       "  </tbody>\n",
       "</table>\n",
       "</div>"
      ],
      "text/plain": [
       "   Set No. Set Name          Player      Country State Association  Age  \\\n",
       "0        1        M     Trent Boult  New Zealand    Foreign Player   32   \n",
       "1        1        M     Pat Cummins    Australia    Foreign Player   28   \n",
       "2        1        M  Shikhar Dhawan        India              DDCA   36   \n",
       "\n",
       "    Specialism Batting               Bowling    IPL Previous IPLTeam(s)  \\\n",
       "0       BOWLER     RHB  LEFT ARM Fast Medium   62.0     SRH, KKR, DD,MI   \n",
       "1  ALL-ROUNDER     RHB        RIGHT ARM Fast   37.0         DD, MI, KKR   \n",
       "2      BATSMAN     LHB                     -  192.0    DCH, MI, SRH, DC   \n",
       "\n",
       "  2021 Team   C/U/A  Base Price  Sold Price          New Franchise   Bid  \n",
       "0        MI  Capped         200       800.0       Rajasthan Royals  Sold  \n",
       "1       KKR  Capped         200       725.0  Kolkata Knight Riders  Sold  \n",
       "2        DC  Capped         200       825.0           Punjab Kings  Sold  "
      ]
     },
     "execution_count": 205,
     "metadata": {},
     "output_type": "execute_result"
    }
   ],
   "source": [
    "df.head(3)"
   ]
  },
  {
   "cell_type": "code",
   "execution_count": 254,
   "metadata": {},
   "outputs": [],
   "source": [
    "speciality = soldPlayers['Specialism'].value_counts().to_frame().reset_index().rename(columns={'index':'Speciality','Specialism':'Total Players'})"
   ]
  },
  {
   "cell_type": "code",
   "execution_count": 287,
   "metadata": {},
   "outputs": [
    {
     "data": {
      "image/png": "[encoded data removed]",
      "text/plain": [
       "<Figure size 504x360 with 1 Axes>"
      ]
     },
     "metadata": {},
     "output_type": "display_data"
    }
   ],
   "source": [
    "sns.set_color_codes(\"pastel\")\n",
    "f, ax = plt.subplots(figsize=(7, 5))\n",
    "label = ['All-Rounder','Bowler','Batsman','WicketKeeper']\n",
    "plt.pie(speciality['Total Players'],labels=label,autopct = '%0.0f%%')\n",
    "plt.show()"
   ]
  },
  {
   "cell_type": "code",
   "execution_count": 296,
   "metadata": {},
   "outputs": [
    {
     "name": "stdout",
     "output_type": "stream",
     "text": [
      "Most demanded players were ALL-ROUNDER (77 players)\n",
      "Most demanded players were WICKETKEEPER (22 players)\n"
     ]
    }
   ],
   "source": [
    "print('Most demanded players were{} ({} players)'.format(speciality[speciality['Total Players'] == speciality['Total Players'].max()]['Speciality'].to_string(index=False),speciality['Total Players'].max()))\n",
    "print('Most demanded players were{} ({} players)'.format(speciality[speciality['Total Players'] == speciality['Total Players'].min()]['Speciality'].to_string(index=False),speciality['Total Players'].min()))"
   ]
  },
  {
   "cell_type": "code",
   "execution_count": 315,
   "metadata": {},
   "outputs": [
    {
     "data": {
      "image/png": "[encoded data removed]",
      "text/plain": [
       "<Figure size 576x432 with 1 Axes>"
      ]
     },
     "metadata": {},
     "output_type": "display_data"
    }
   ],
   "source": [
    "sns.set_color_codes(\"pastel\")\n",
    "f, ax = plt.subplots(figsize=(8, 6))\n",
    "sns.lineplot(x=soldPlayers[\"Base Price\"], y=soldPlayers[\"Sold Price\"],hue=soldPlayers[\"Specialism\"])\n",
    "plt.title('Sold Price VS Base Price (Player Category)')\n",
    "plt.show()"
   ]
  },
  {
   "cell_type": "code",
   "execution_count": null,
   "metadata": {},
   "outputs": [],
   "source": []
  }
 ],
 "metadata": {
  "kernelspec": {
   "display_name": "Python 3",
   "language": "python",
   "name": "python3"
  },
  "language_info": {
   "codemirror_mode": {
    "name": "ipython",
    "version": 3
   },
   "file_extension": ".py",
   "mimetype": "text/x-python",
   "name": "python",
   "nbconvert_exporter": "python",
   "pygments_lexer": "ipython3",
   "version": "3.8.5"
  }
 },
 "nbformat": 4,
 "nbformat_minor": 4
}
